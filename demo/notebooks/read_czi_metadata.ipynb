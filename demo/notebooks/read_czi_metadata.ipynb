{
 "cells": [
  {
   "cell_type": "code",
   "execution_count": 1,
   "metadata": {},
   "outputs": [],
   "source": [
    "try:\n",
    "  import google.colab\n",
    "  IN_COLAB = True\n",
    "except:\n",
    "  IN_COLAB = False"
   ]
  },
  {
   "cell_type": "code",
   "execution_count": 2,
   "metadata": {},
   "outputs": [],
   "source": [
    "if IN_COLAB:\n",
    "  # Install dependencies\n",
    "  ! pip install --upgrade pip\n",
    "  ! pip install czitools\n",
    "  ! pip install ipyfilechooser"
   ]
  },
  {
   "cell_type": "code",
   "execution_count": 3,
   "metadata": {},
   "outputs": [],
   "source": [
    "# import the required libraries\n",
    "from czitools.metadata_tools import czi_metadata as czimd\n",
    "from czitools.utils import misc\n",
    "from ipyfilechooser import FileChooser\n",
    "from IPython.display import display, HTML\n",
    "import os\n",
    "import requests\n",
    "import ipywidgets as widgets\n",
    "import glob"
   ]
  },
  {
   "cell_type": "markdown",
   "metadata": {},
   "source": [
    "### Define Parameters for Data Loading"
   ]
  },
  {
   "cell_type": "code",
   "execution_count": 4,
   "metadata": {
    "pycharm": {
     "name": "#%%\n"
    }
   },
   "outputs": [],
   "source": [
    "# try to find the folder with data and download otherwise from GitHub.\n",
    "\n",
    "# Folder containing the input data\n",
    "if IN_COLAB:\n",
    "    INPUT_FOLDER = 'data/'\n",
    "if not IN_COLAB:\n",
    "    INPUT_FOLDER = '../../data/'\n",
    "\n",
    "# Path to the data on GitHub\n",
    "GITHUB_IMAGES_PATH = \"https://raw.githubusercontent.com/sebi06/czitools/main/data.zip\"\n",
    "\n",
    "# Download data\n",
    "if not (os.path.isdir(INPUT_FOLDER)):\n",
    "    compressed_data = './data.zip'\n",
    "    if not os.path.isfile(compressed_data):\n",
    "        import io\n",
    "        response = requests.get(GITHUB_IMAGES_PATH, stream=True)\n",
    "        compressed_data = io.BytesIO(response.content)\n",
    "\n",
    "    import zipfile\n",
    "    with zipfile.ZipFile(compressed_data, 'r') as zip_accessor:\n",
    "        zip_accessor.extractall('./')"
   ]
  },
  {
   "cell_type": "code",
   "execution_count": 5,
   "metadata": {},
   "outputs": [
    {
     "data": {
      "application/vnd.jupyter.widget-view+json": {
       "model_id": "67bae9330ea84826a77279b1f050bb96",
       "version_major": 2,
       "version_minor": 0
      },
      "text/plain": [
       "FileChooser(path='F:\\Github\\czitools\\data', filename='', title='', show_hidden=False, select_desc='Select', ch…"
      ]
     },
     "metadata": {},
     "output_type": "display_data"
    }
   ],
   "source": [
    "if not IN_COLAB:\n",
    "    # choose local file\n",
    "    fc = FileChooser()\n",
    "    fc.default_path = INPUT_FOLDER\n",
    "    fc.filter_pattern = '*.czi'\n",
    "    display(fc)\n",
    "\n",
    "elif IN_COLAB:\n",
    "    # lislt files inside the folder om gdrive\n",
    "    czifiles = glob.glob(os.path.join(INPUT_FOLDER, \"*.czi\"))\n",
    "    wd = widgets.Select(\n",
    "        options=czifiles,\n",
    "        description='CZI Files:',\n",
    "        layout={'width': 'max-content'}\n",
    "    )\n",
    "    display(wd)"
   ]
  },
  {
   "cell_type": "code",
   "execution_count": 6,
   "metadata": {
    "pycharm": {
     "name": "#%%\n"
    }
   },
   "outputs": [
    {
     "name": "stdout",
     "output_type": "stream",
     "text": [
      "Selected File: F:\\Github\\czitools\\data\\CellDivision_T10_Z15_CH2_DCV_small.czi\n"
     ]
    }
   ],
   "source": [
    "if not IN_COLAB:\n",
    "    filepath = fc.selected\n",
    "elif IN_COLAB:\n",
    "    filepath = wd.value\n",
    "\n",
    "print(f\"Selected File: {filepath}\")"
   ]
  },
  {
   "cell_type": "code",
   "execution_count": 7,
   "metadata": {},
   "outputs": [
    {
     "name": "stdout",
     "output_type": "stream",
     "text": [
      "SizeS:  None\n",
      "SizeT:  10\n",
      "SizeZ:  15\n",
      "SizeC:  2\n",
      "SizeY:  256\n",
      "SizeX:  256\n"
     ]
    }
   ],
   "source": [
    "# get only specific metadata\n",
    "czi_dimensions = czimd.CziDimensions(filepath)\n",
    "print(\"SizeS: \", czi_dimensions.SizeS)\n",
    "print(\"SizeT: \", czi_dimensions.SizeT)\n",
    "print(\"SizeZ: \", czi_dimensions.SizeZ)\n",
    "print(\"SizeC: \", czi_dimensions.SizeC)\n",
    "print(\"SizeY: \", czi_dimensions.SizeY)\n",
    "print(\"SizeX: \", czi_dimensions.SizeX)"
   ]
  },
  {
   "cell_type": "code",
   "execution_count": 8,
   "metadata": {},
   "outputs": [
    {
     "data": {
      "application/vnd.jupyter.widget-view+json": {
       "model_id": "a93eac16f6ee483abde0230c510658b9",
       "version_major": 2,
       "version_minor": 0
      },
      "text/plain": [
       "Reading sublocks planes: 0 2Dplanes [00:00, ? 2Dplanes/s]"
      ]
     },
     "metadata": {},
     "output_type": "display_data"
    }
   ],
   "source": [
    "# and get more info\n",
    "czi_scaling = czimd.CziScaling(filepath)\n",
    "czi_channels = czimd.CziChannelInfo(filepath)\n",
    "czi_bbox = czimd.CziBoundingBox(filepath)\n",
    "czi_objectives = czimd.CziObjectives(filepath)\n",
    "czi_detectors = czimd.CziDetector(filepath)\n",
    "czi_microscope = czimd.CziMicroscope(filepath)\n",
    "czi_sample = czimd.CziSampleInfo(filepath)"
   ]
  },
  {
   "cell_type": "code",
   "execution_count": 9,
   "metadata": {},
   "outputs": [
    {
     "data": {
      "application/vnd.jupyter.widget-view+json": {
       "model_id": "af5bcd24afff4a63b4e9fa4e3ab9837c",
       "version_major": 2,
       "version_minor": 0
      },
      "text/plain": [
       "Reading sublocks planes: 0 2Dplanes [00:00, ? 2Dplanes/s]"
      ]
     },
     "metadata": {},
     "output_type": "display_data"
    },
    {
     "data": {
      "application/vnd.jupyter.widget-view+json": {
       "model_id": "2f35de85d97c4e48893478f8837a09ac",
       "version_major": 2,
       "version_minor": 0
      },
      "text/plain": [
       "VBox(children=(Output(layout=Layout(height='300px')),))"
      ]
     },
     "metadata": {},
     "output_type": "display_data"
    }
   ],
   "source": [
    "# get the complete metadata at once as one big class\n",
    "mdata = czimd.CziMetadata(filepath)\n",
    "\n",
    "# get the CZI metadata dictionary directly from filename\n",
    "mdict = czimd.create_md_dict_red(mdata, sort=False, remove_none=True)\n",
    "\n",
    "# convert metadata dictionary to a pandas dataframe\n",
    "mdframe = misc.md2dataframe(mdict)\n",
    "\n",
    "# create a ipywdiget to show the dataframe with the metadata\n",
    "wd1 = widgets.Output(layout={\"scrollY\": \"auto\", \"height\": \"300px\"})\n",
    "\n",
    "with wd1:\n",
    "    display(HTML(mdframe.to_html()))\n",
    "display(widgets.VBox(children=[wd1]))"
   ]
  },
  {
   "cell_type": "code",
   "execution_count": 10,
   "metadata": {},
   "outputs": [
    {
     "name": "stdout",
     "output_type": "stream",
     "text": [
      "XML File written to: F:\\Github\\czitools\\data\\CellDivision_T10_Z15_CH2_DCV_small_CZI_MetaData.xml\n"
     ]
    }
   ],
   "source": [
    "# write XML to disk\n",
    "xmlfile = czimd.writexml(filepath)\n",
    "print(\"XML File written to:\", xmlfile)"
   ]
  },
  {
   "cell_type": "code",
   "execution_count": 11,
   "metadata": {},
   "outputs": [
    {
     "data": {
      "application/vnd.jupyter.widget-view+json": {
       "model_id": "1684eac6439e4d60ab6b1cf104c064a5",
       "version_major": 2,
       "version_minor": 0
      },
      "text/plain": [
       "Reading sublocks planes: 0 2Dplanes [00:00, ? 2Dplanes/s]"
      ]
     },
     "metadata": {},
     "output_type": "display_data"
    },
    {
     "data": {
      "application/vnd.jupyter.widget-view+json": {
       "model_id": "6b227e81daa347febce3e4bfa5361e9f",
       "version_major": 2,
       "version_minor": 0
      },
      "text/plain": [
       "VBox(children=(Output(layout=Layout(height='300px')),))"
      ]
     },
     "metadata": {},
     "output_type": "display_data"
    }
   ],
   "source": [
    "# get the planetable for the CZI file\n",
    "pt = misc.get_planetable(filepath,\n",
    "                         norm_time=True,\n",
    "                         pt_complete=True,\n",
    "                         t=0,\n",
    "                         c=0,\n",
    "                         z=0)\n",
    "\n",
    "# create a ipywdiget to show the dataframe with the metadata\n",
    "wd2 = widgets.Output(layout={\"scrollY\": \"auto\", \"height\": \"300px\"})\n",
    "\n",
    "with wd2:\n",
    "    display(HTML(pt.to_html()))\n",
    "display(widgets.VBox(children=[wd2]))"
   ]
  },
  {
   "cell_type": "code",
   "execution_count": 12,
   "metadata": {},
   "outputs": [
    {
     "name": "stdout",
     "output_type": "stream",
     "text": [
      "PlaneTable saved to: F:\\Github\\czitools\\data\\CellDivision_T10_Z15_CH2_DCV_small_planetable.csv\n"
     ]
    }
   ],
   "source": [
    "# save the planetable to disk\n",
    "\n",
    "result = misc.save_planetable(df=pt, filename=filepath, separator=\",\", index=True)\n",
    "\n",
    "print(f\"PlaneTable saved to: {result}\")"
   ]
  }
 ],
 "metadata": {
  "kernelspec": {
   "display_name": "zenpy",
   "language": "python",
   "name": "python3"
  },
  "language_info": {
   "codemirror_mode": {
    "name": "ipython",
    "version": 3
   },
   "file_extension": ".py",
   "mimetype": "text/x-python",
   "name": "python",
   "nbconvert_exporter": "python",
   "pygments_lexer": "ipython3",
   "version": "3.11.11"
  }
 },
 "nbformat": 4,
 "nbformat_minor": 4
}
