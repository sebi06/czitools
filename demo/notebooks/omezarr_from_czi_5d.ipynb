{
 "cells": [
  {
   "attachments": {},
   "cell_type": "markdown",
   "id": "b0fae27f",
   "metadata": {
    "editable": true,
    "slideshow": {
     "slide_type": "slide"
    },
    "tags": []
   },
   "source": [
    "## Writing ome.zarr data from a CZI image file\n",
    "\n",
    "* Read the CZI image and its metadata into an 6D array\n",
    "* reduce dimensionality to a 5D array\n",
    "* write array into an OME-ZARR file"
   ]
  },
  {
   "cell_type": "code",
   "execution_count": 1,
   "id": "9873c5dc",
   "metadata": {
    "editable": true,
    "slideshow": {
     "slide_type": "slide"
    },
    "tags": []
   },
   "outputs": [],
   "source": [
    "# check if the notebook runs in Google Colab\n",
    "try:\n",
    "  import google.colab\n",
    "  IN_COLAB = True\n",
    "except:\n",
    "  IN_COLAB = False"
   ]
  },
  {
   "cell_type": "code",
   "execution_count": 2,
   "id": "67c73f91",
   "metadata": {
    "editable": true,
    "slideshow": {
     "slide_type": ""
    },
    "tags": []
   },
   "outputs": [],
   "source": [
    "if IN_COLAB:\n",
    "  # Install dependencies\n",
    "  ! pip install --upgrade pip\n",
    "  ! pip install czitools\n",
    "  ! pip install ome-zarr\n",
    "  ! pip install ngff-zarr[validate, dask-image]"
   ]
  },
  {
   "cell_type": "code",
   "execution_count": 3,
   "id": "b236d2d9",
   "metadata": {},
   "outputs": [
    {
     "name": "stdout",
     "output_type": "stream",
     "text": [
      "\u001b[32m2025-08-25 15:17:31,259 - czitools - INFO - Using ngff format version: 0.5\u001b[0m\n",
      "\u001b[32m2025-08-25 15:17:31,260 - czitools - INFO - ZARR Version: 3.1.1\u001b[0m\n",
      "\u001b[32m2025-08-25 15:17:31,260 - czitools - INFO - NGFF-ZARR Version: 0.16.1\u001b[0m\n",
      "\u001b[32m2025-08-25 15:17:31,262 - czitools - INFO - OME-ZARR Version: 0.12.2\u001b[0m\n"
     ]
    }
   ],
   "source": [
    "from czitools.read_tools import read_tools\n",
    "from czitools.metadata_tools import czi_metadata as czimd\n",
    "import ngff_zarr as nz\n",
    "from pathlib import Path\n",
    "import dask.array as da\n",
    "import zarr\n",
    "import os\n",
    "import requests\n",
    "import ome_zarr.writer\n",
    "import ome_zarr.format\n",
    "from ome_zarr.io import parse_url\n",
    "from typing import Union\n",
    "import shutil\n",
    "import numpy as np\n",
    "from czitools.utils import logging_tools\n",
    "from importlib.metadata import version\n",
    "\n",
    "logger = logging_tools.set_logging()\n",
    "\n",
    "# show currently used version of NGFF specification\n",
    "ngff_version = ome_zarr.format.CurrentFormat().version\n",
    "logger.info(f\"Using ngff format version: {ngff_version}\")\n",
    "logger.info(f\"ZARR Version: {zarr.__version__}\")\n",
    "logger.info(f\"NGFF-ZARR Version: {nz.__version__}\")\n",
    "logger.info(f\"OME-ZARR Version: {version('ome-zarr')}\")"
   ]
  },
  {
   "cell_type": "code",
   "execution_count": 4,
   "id": "1ba3c0b3",
   "metadata": {},
   "outputs": [],
   "source": [
    "def write_omezarr(\n",
    "    array5d: Union[np.ndarray, da.Array],\n",
    "    zarr_path: str,\n",
    "    axes: str = \"tczyx\",\n",
    "    overwrite: bool = False,\n",
    ") -> str:\n",
    "    \"\"\"\n",
    "     Writes a 5D array to an OME-ZARR file.\n",
    "    Parameters:\n",
    "    -----------\n",
    "    array5d : Union[np.ndarray, da.Array]\n",
    "        The 5D array to be written. The dimensions should not exceed 5.\n",
    "    zarr_path : str\n",
    "        The path where the OME-ZARR file will be saved.\n",
    "    axes : str, optional\n",
    "        The order of axes in the array. Default is \"tczyx\".\n",
    "    overwrite : bool, optional\n",
    "        If True, the existing file at zarr_path will be overwritten. Default is False.\n",
    "    Returns:\n",
    "    --------\n",
    "    str\n",
    "        The path to the written OME-ZARR folder if successful, otherwise None.\n",
    "    Notes:\n",
    "    ------\n",
    "    - The function ensures the axes are in lowercase and removes any invalid dimensions.\n",
    "    - If the zarr_path already exists and overwrite is True, the existing directory will be removed.\n",
    "    - The function logs the NGFF format version being used.\n",
    "    - The function writes the image data to the specified zarr_path.\n",
    "    - If the writing process is successful, the function returns the zarr_path; otherwise, it returns None.\n",
    "    \"\"\"\n",
    "\n",
    "    # check number of dimension of input array\n",
    "    if len(array5d.shape) > 5:\n",
    "        logger.warning(\"Input array as more than 5 dimensions.\")\n",
    "        return None\n",
    "\n",
    "    # make sure lower case is use for axes order\n",
    "    axes = axes.lower()\n",
    "\n",
    "    # check for invalid dimensions and clean up\n",
    "    for character in [\"b\", \"h\", \"s\", \"i\", \"v\", \"a\"]:\n",
    "        axes = axes.replace(character, \"\")\n",
    "\n",
    "    # check if zarr_path already exits\n",
    "    if Path(zarr_path).exists() and overwrite:\n",
    "        shutil.rmtree(zarr_path, ignore_errors=False, onerror=None)\n",
    "    elif Path(zarr_path).exists() and not overwrite:\n",
    "        logger.warning(\n",
    "            f\"File already exists at {zarr_path}. Set overwrite=True to remove.\"\n",
    "        )\n",
    "        return None\n",
    "\n",
    "    # write the image data\n",
    "    store = parse_url(zarr_path, mode=\"w\").store\n",
    "    root = zarr.group(store=store, overwrite=overwrite)\n",
    "\n",
    "    # TODO: Add Channel information etc. to the root along those lines\n",
    "    \"\"\"\n",
    "    # add omero metadata_tools: the napari ome-zarr plugin uses this to pass rendering\n",
    "    # options to napari.\n",
    "    root.attrs['omero'] = {\n",
    "        'channels': [{\n",
    "                'color': 'ffffff',\n",
    "                'label': 'LS-data',\n",
    "                'active': True,\n",
    "                }]\n",
    "        }\n",
    "\n",
    "    \"\"\"\n",
    "\n",
    "    # write the OME-ZARR file\n",
    "    ome_zarr.writer.write_image(\n",
    "        image=array5d,\n",
    "        group=root,\n",
    "        axes=axes,\n",
    "        storage_options=dict(chunks=array5d.shape),\n",
    "    )\n",
    "\n",
    "    logger.info(f\"Finished writing OME-ZARR to: {zarr_path}\")\n",
    "\n",
    "    return zarr_path"
   ]
  },
  {
   "cell_type": "code",
   "execution_count": 5,
   "id": "5b96a0fa",
   "metadata": {},
   "outputs": [],
   "source": [
    "# try to find the folder with data and download otherwise from GitHub.\n",
    "\n",
    "# Folder containing the input data\n",
    "if IN_COLAB:\n",
    "    INPUT_FOLDER = 'data/'\n",
    "if not IN_COLAB:\n",
    "    INPUT_FOLDER = '../../data/'\n",
    "\n",
    "# Path to the data on GitHub\n",
    "GITHUB_IMAGES_PATH = \"https://raw.githubusercontent.com/sebi06/czitools/main/data.zip\"\n",
    "\n",
    "# Download data\n",
    "if not (os.path.isdir(INPUT_FOLDER)):\n",
    "    compressed_data = './data.zip'\n",
    "    if not os.path.isfile(compressed_data):\n",
    "        import io\n",
    "        response = requests.get(GITHUB_IMAGES_PATH, stream=True)\n",
    "        compressed_data = io.BytesIO(response.content)\n",
    "\n",
    "    import zipfile\n",
    "    with zipfile.ZipFile(compressed_data, 'r') as zip_accessor:\n",
    "        zip_accessor.extractall('./')"
   ]
  },
  {
   "cell_type": "code",
   "execution_count": 6,
   "id": "2ab02d0c",
   "metadata": {},
   "outputs": [
    {
     "name": "stdout",
     "output_type": "stream",
     "text": [
      "\u001b[32m2025-08-25 15:18:12,909 - czitools - INFO - /datadisk1/Github/czitools/data/CellDivision_T3_Z5_CH2_X240_Y170.ome.zarr\u001b[0m\n"
     ]
    }
   ],
   "source": [
    "if IN_COLAB:\n",
    "    filepath = os.path.join(os.getcwd(), \"data/CellDivision_T3_Z5_CH2_X240_Y170.czi\")\n",
    "    zarr_path = Path(filepath[:-4] + \".ome.zarr\")\n",
    "\n",
    "if not IN_COLAB:\n",
    "    defaultdir = os.path.join(Path(os.getcwd()).resolve().parents[1], \"data\")\n",
    "    filepath = os.path.join(defaultdir, \"CellDivision_T3_Z5_CH2_X240_Y170.czi\")\n",
    "    zarr_path = defaultdir / Path(filepath[:-4] + \".ome.zarr\")\n",
    "\n",
    "logger.info(zarr_path)\n",
    "\n",
    "# check if path exists\n",
    "remove = True\n",
    "if zarr_path.exists() and remove:\n",
    "    shutil.rmtree(zarr_path, ignore_errors=False, onerror=None)"
   ]
  },
  {
   "cell_type": "code",
   "execution_count": 9,
   "id": "68d184ed",
   "metadata": {},
   "outputs": [
    {
     "data": {
      "application/vnd.jupyter.widget-view+json": {
       "model_id": "ecceeaa3a1c5428f94e965bd04c4932a",
       "version_major": 2,
       "version_minor": 0
      },
      "text/plain": [
       "Reading sublocks planes: 0 2Dplanes [00:00, ? 2Dplanes/s]"
      ]
     },
     "metadata": {},
     "output_type": "display_data"
    },
    {
     "name": "stdout",
     "output_type": "stream",
     "text": [
      "\u001b[32m2025-08-25 15:19:51,505 - czitools - INFO - Number of Scenes: None\u001b[0m\n"
     ]
    },
    {
     "data": {
      "application/vnd.jupyter.widget-view+json": {
       "model_id": "b9304e7cdf8c44378de6765920202915",
       "version_major": 2,
       "version_minor": 0
      },
      "text/plain": [
       "Reading sublocks planes: 0 2Dplanes [00:00, ? 2Dplanes/s]"
      ]
     },
     "metadata": {},
     "output_type": "display_data"
    },
    {
     "data": {
      "application/vnd.jupyter.widget-view+json": {
       "model_id": "f462a65c4dbf464099307f28ac00ae1a",
       "version_major": 2,
       "version_minor": 0
      },
      "text/plain": [
       "Reading 2D planes: 0 2Dplanes [00:00, ? 2Dplanes/s]"
      ]
     },
     "metadata": {},
     "output_type": "display_data"
    },
    {
     "name": "stdout",
     "output_type": "stream",
     "text": [
      "\u001b[32m2025-08-25 15:19:51,812 - czitools - INFO - Array Shape: (3, 2, 5, 170, 240)\u001b[0m\n"
     ]
    }
   ],
   "source": [
    "# get the metadata at once as one big class\n",
    "mdata = czimd.CziMetadata(filepath)\n",
    "logger.info(f\"Number of Scenes: {mdata.image.SizeS}\")\n",
    "scene_id = 0\n",
    "\n",
    "array, mdata = read_tools.read_6darray(filepath)\n",
    "\n",
    "array = array[scene_id, ...]\n",
    "logger.info(f\"Array Shape: {array.shape}\")"
   ]
  },
  {
   "cell_type": "code",
   "execution_count": 10,
   "id": "e192c410",
   "metadata": {},
   "outputs": [
    {
     "name": "stdout",
     "output_type": "stream",
     "text": [
      "\u001b[32m2025-08-25 15:20:13,717 - czitools - INFO - Finished writing OME-ZARR to: /datadisk1/Github/czitools/data/CellDivision_T3_Z5_CH2_X240_Y170_1.ome.zarr\u001b[0m\n",
      "\u001b[32m2025-08-25 15:20:13,717 - czitools - INFO - Written OME-ZARR using ome-zarr.py: /datadisk1/Github/czitools/data/CellDivision_T3_Z5_CH2_X240_Y170_1.ome.zarr\u001b[0m\n"
     ]
    }
   ],
   "source": [
    "# Approach 1: Use ome-zarr-py to write OME-ZARR\n",
    "zarr_path1 = Path(str(filepath)[:-4] + \"_1.ome.zarr\")\n",
    "\n",
    "# write OME-ZARR using utility function\n",
    "zarr_path1 = write_omezarr(\n",
    "    array, zarr_path=str(zarr_path1), axes=\"tczyx\", overwrite=True\n",
    ")\n",
    "\n",
    "logger.info(f\"Written OME-ZARR using ome-zarr.py: {zarr_path1}\")"
   ]
  },
  {
   "cell_type": "code",
   "execution_count": 11,
   "id": "c670b17c",
   "metadata": {},
   "outputs": [
    {
     "name": "stdout",
     "output_type": "stream",
     "text": [
      "\u001b[32m2025-08-25 15:20:19,409 - czitools - INFO - NGFF Image: NgffImage(data=dask.array<rechunk-merge, shape=(3, 2, 5, 170, 240), dtype=uint16, chunksize=(1, 2, 5, 128, 128), chunktype=numpy.ndarray>, dims=['t', 'c', 'z', 'y', 'x'], scale={'y': np.float64(0.091), 'x': np.float64(0.091), 'z': np.float64(0.32)}, translation={'z': 0.0, 'y': 0.0, 'x': 0.0}, name='CellDivision_T3_Z5_CH2_X240_Y170.czi', axes_units=None, axes_orientations=None, computed_callbacks=[])\u001b[0m\n",
      "\u001b[32m2025-08-25 15:20:19,409 - czitools - INFO - Written OME-ZARR using ngff-zarr: /datadisk1/Github/czitools/data/CellDivision_T3_Z5_CH2_X240_Y170_2.ome.zarr\u001b[0m\n"
     ]
    }
   ],
   "source": [
    "# Approach 2: Use ngff-zarr to create NGFF structure and write using ome-zarr-py\n",
    "zarr_path2 = Path(str(filepath)[:-4] + \"_2.ome.zarr\")\n",
    "\n",
    "# create NGFF image from the array\n",
    "image = nz.to_ngff_image(array.data,\n",
    "                         dims=[\"t\", \"c\", \"z\", \"y\", \"x\"],\n",
    "                         scale={\"y\": mdata.scale.Y, \"x\": mdata.scale.X, \"z\": mdata.scale.Z},\n",
    "                         name=mdata.filename)\n",
    "\n",
    "# create multi-scaled, chunked data structure from the image\n",
    "multiscales = nz.to_multiscales(image, [2, 4], method=nz.Methods.DASK_IMAGE_GAUSSIAN)\n",
    "\n",
    "# write using ngff-zarr\n",
    "nz.to_ngff_zarr(zarr_path2, multiscales)\n",
    "logger.info(f\"NGFF Image: {image}\")\n",
    "logger.info(f\"Written OME-ZARR using ngff-zarr: {zarr_path2}\")"
   ]
  }
 ],
 "metadata": {
  "kernelspec": {
   "display_name": "zenpy",
   "language": "python",
   "name": "python3"
  },
  "language_info": {
   "codemirror_mode": {
    "name": "ipython",
    "version": 3
   },
   "file_extension": ".py",
   "mimetype": "text/x-python",
   "name": "python",
   "nbconvert_exporter": "python",
   "pygments_lexer": "ipython3",
   "version": "3.11.13"
  }
 },
 "nbformat": 4,
 "nbformat_minor": 5
}
