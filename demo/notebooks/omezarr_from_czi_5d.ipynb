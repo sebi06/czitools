{
 "cells": [
  {
   "attachments": {},
   "cell_type": "markdown",
   "id": "b0fae27f",
   "metadata": {
    "editable": true,
    "slideshow": {
     "slide_type": "slide"
    },
    "tags": []
   },
   "source": [
    "## Writing ome.zarr data from a CZI image file\n",
    "\n",
    "* Read the CZI image and its metadata into an 6D array\n",
    "* reduce dimensionality to a 5D array\n",
    "* write array into an OME-ZARR file"
   ]
  },
  {
   "cell_type": "code",
   "execution_count": 1,
   "id": "9873c5dc",
   "metadata": {
    "editable": true,
    "slideshow": {
     "slide_type": "slide"
    },
    "tags": []
   },
   "outputs": [],
   "source": [
    "# check if the notebook runs in Google Colab\n",
    "try:\n",
    "  import google.colab\n",
    "  IN_COLAB = True\n",
    "except:\n",
    "  IN_COLAB = False"
   ]
  },
  {
   "cell_type": "code",
   "execution_count": 2,
   "id": "67c73f91",
   "metadata": {
    "editable": true,
    "slideshow": {
     "slide_type": ""
    },
    "tags": []
   },
   "outputs": [],
   "source": [
    "if IN_COLAB:\n",
    "  # Install dependencies\n",
    "  ! pip install --upgrade pip\n",
    "  ! pip install czitools\n",
    "  ! pip install ngff-zarr[validate, dask-image]"
   ]
  },
  {
   "cell_type": "code",
   "execution_count": 3,
   "id": "b236d2d9",
   "metadata": {},
   "outputs": [
    {
     "name": "stdout",
     "output_type": "stream",
     "text": [
      "ZARR Verion: 3.1.0 NGFF-ZARR Version: 0.15.0\n"
     ]
    }
   ],
   "source": [
    "from czitools.read_tools import read_tools\n",
    "from czitools.metadata_tools import czi_metadata as czimd\n",
    "from pathlib import Path\n",
    "import shutil\n",
    "import requests\n",
    "import os\n",
    "import ngff_zarr as nz\n",
    "import zarr\n",
    "print(f\"ZARR Verion: {zarr.__version__} NGFF-ZARR Version: {nz.__version__}\")"
   ]
  },
  {
   "cell_type": "code",
   "execution_count": 4,
   "id": "5b96a0fa",
   "metadata": {},
   "outputs": [],
   "source": [
    "# try to find the folder with data and download otherwise from GitHub.\n",
    "\n",
    "# Folder containing the input data\n",
    "if IN_COLAB:\n",
    "    INPUT_FOLDER = 'data/'\n",
    "if not IN_COLAB:\n",
    "    INPUT_FOLDER = '../../data/'\n",
    "\n",
    "# Path to the data on GitHub\n",
    "GITHUB_IMAGES_PATH = \"https://raw.githubusercontent.com/sebi06/czitools/main/data.zip\"\n",
    "\n",
    "# Download data\n",
    "if not (os.path.isdir(INPUT_FOLDER)):\n",
    "    compressed_data = './data.zip'\n",
    "    if not os.path.isfile(compressed_data):\n",
    "        import io\n",
    "        response = requests.get(GITHUB_IMAGES_PATH, stream=True)\n",
    "        compressed_data = io.BytesIO(response.content)\n",
    "\n",
    "    import zipfile\n",
    "    with zipfile.ZipFile(compressed_data, 'r') as zip_accessor:\n",
    "        zip_accessor.extractall('./')"
   ]
  },
  {
   "cell_type": "code",
   "execution_count": 5,
   "id": "2ab02d0c",
   "metadata": {},
   "outputs": [
    {
     "name": "stdout",
     "output_type": "stream",
     "text": [
      "F:\\Github\\czitools\\data\\CellDivision_T3_Z5_CH2_X240_Y170.ome.zarr\n"
     ]
    }
   ],
   "source": [
    "if IN_COLAB:\n",
    "    filepath = os.path.join(os.getcwd(), \"data/CellDivision_T3_Z5_CH2_X240_Y170.czi\")\n",
    "    zarr_path = Path(filepath[:-4] + \".ome.zarr\")\n",
    "\n",
    "if not IN_COLAB:\n",
    "    defaultdir = os.path.join(Path(os.getcwd()).resolve().parents[1], \"data\")\n",
    "    filepath = os.path.join(defaultdir, \"CellDivision_T3_Z5_CH2_X240_Y170.czi\")\n",
    "    zarr_path = defaultdir / Path(filepath[:-4] + \".ome.zarr\")\n",
    "\n",
    "print(zarr_path)\n",
    "\n",
    "# check if path exists\n",
    "remove = True\n",
    "if zarr_path.exists() and remove:\n",
    "    shutil.rmtree(zarr_path, ignore_errors=False, onerror=None)"
   ]
  },
  {
   "cell_type": "code",
   "execution_count": 6,
   "id": "68d184ed",
   "metadata": {},
   "outputs": [
    {
     "data": {
      "application/vnd.jupyter.widget-view+json": {
       "model_id": "c17689de830e4c74b443b5544c3610e5",
       "version_major": 2,
       "version_minor": 0
      },
      "text/plain": [
       "Reading sublocks planes: 0 2Dplanes [00:00, ? 2Dplanes/s]"
      ]
     },
     "metadata": {},
     "output_type": "display_data"
    },
    {
     "name": "stdout",
     "output_type": "stream",
     "text": [
      "Number of Scenes:  None\n"
     ]
    }
   ],
   "source": [
    "# get the metadata at once as one big class\n",
    "mdata = czimd.CziMetadata(filepath)\n",
    "print(\"Number of Scenes: \", mdata.image.SizeS)\n",
    "scene_id = 0"
   ]
  },
  {
   "cell_type": "code",
   "execution_count": 7,
   "id": "1e32b670",
   "metadata": {},
   "outputs": [
    {
     "data": {
      "application/vnd.jupyter.widget-view+json": {
       "model_id": "f9353554723246e2b63c91bc218967ef",
       "version_major": 2,
       "version_minor": 0
      },
      "text/plain": [
       "Reading sublocks planes: 0 2Dplanes [00:00, ? 2Dplanes/s]"
      ]
     },
     "metadata": {},
     "output_type": "display_data"
    },
    {
     "data": {
      "application/vnd.jupyter.widget-view+json": {
       "model_id": "0cb914978813439ea5b96cba2b6d9787",
       "version_major": 2,
       "version_minor": 0
      },
      "text/plain": [
       "Reading 2D planes: 0 2Dplanes [00:00, ? 2Dplanes/s]"
      ]
     },
     "metadata": {},
     "output_type": "display_data"
    },
    {
     "name": "stdout",
     "output_type": "stream",
     "text": [
      "Array Shape: (3, 2, 5, 170, 240)\n"
     ]
    }
   ],
   "source": [
    "array, mdata = read_tools.read_6darray(filepath)\n",
    "\n",
    "array = array[scene_id, ...]\n",
    "print(f\"Array Shape: {array.shape}\")"
   ]
  },
  {
   "cell_type": "code",
   "execution_count": 10,
   "id": "c670b17c",
   "metadata": {},
   "outputs": [],
   "source": [
    "# create NGFF image from the array\n",
    "image = nz.to_ngff_image(array.data,\n",
    "                         dims=[\"t\", \"c\", \"z\", \"y\", \"x\"],\n",
    "                         scale={\"y\": mdata.scale.Y, \"x\": mdata.scale.X, \"z\": mdata.scale.Z},\n",
    "                         name=mdata.filename)\n",
    "\n"
   ]
  },
  {
   "cell_type": "code",
   "execution_count": 11,
   "id": "24a93ccf-5cd4-4435-867b-190093bba3cc",
   "metadata": {},
   "outputs": [],
   "source": [
    "# create multi-scaled, chunked data structure from the image\n",
    "multiscales = nz.to_multiscales(image, [2, 4], method=nz.Methods.DASK_IMAGE_GAUSSIAN)"
   ]
  }
 ],
 "metadata": {
  "kernelspec": {
   "display_name": "zenpy",
   "language": "python",
   "name": "python3"
  },
  "language_info": {
   "codemirror_mode": {
    "name": "ipython",
    "version": 3
   },
   "file_extension": ".py",
   "mimetype": "text/x-python",
   "name": "python",
   "nbconvert_exporter": "python",
   "pygments_lexer": "ipython3",
   "version": "3.11.13"
  }
 },
 "nbformat": 4,
 "nbformat_minor": 5
}
