{
 "cells": [
  {
   "cell_type": "markdown",
   "metadata": {
    "editable": true,
    "pycharm": {
     "name": "#%% md\n"
    },
    "slideshow": {
     "slide_type": "slide"
    },
    "tags": []
   },
   "source": [
    "## Prerequisites\n",
    "\n",
    "In order to run this notebook one needs to have pyclesperanto installed !\n",
    "\n",
    "For details on how to do this check: [pyclesperanto_prototype](https://github.com/clEsperanto/pyclesperanto_prototype)\n",
    "\n",
    "**Important: Right now this only works if one is using a GPU colab runtime!**"
   ]
  },
  {
   "cell_type": "code",
   "execution_count": 1,
   "metadata": {},
   "outputs": [],
   "source": [
    "try:\n",
    "  import google.colab\n",
    "  IN_COLAB = True\n",
    "except:\n",
    "  IN_COLAB = False"
   ]
  },
  {
   "cell_type": "code",
   "execution_count": 2,
   "metadata": {},
   "outputs": [],
   "source": [
    "if IN_COLAB:\n",
    "  # Install dependencies\n",
    "  ! pip install --upgrade pip\n",
    "  ! pip install czitools\n",
    "  ! pip install pyclesperanto-prototype\n",
    "  ! pip install pyopencl"
   ]
  },
  {
   "cell_type": "code",
   "execution_count": 4,
   "metadata": {
    "collapsed": false,
    "jupyter": {
     "outputs_hidden": false
    },
    "pycharm": {
     "is_executing": true,
     "name": "#%%\n"
    }
   },
   "outputs": [],
   "source": [
    "# import the required libraries\n",
    "from czitools.metadata_tools import czi_metadata as czimd\n",
    "from czitools.utils import misc\n",
    "from pylibCZIrw import czi as pyczi\n",
    "from pathlib import Path\n",
    "import os\n",
    "import pandas as pd\n",
    "from skimage import measure, segmentation\n",
    "from tqdm.contrib.itertools import product\n",
    "#import pyclesperanto_prototype as cle\n",
    "import pyclesperanto as cle\n",
    "from typing import Union\n",
    "import numpy as np\n",
    "import requests"
   ]
  },
  {
   "cell_type": "code",
   "execution_count": 5,
   "metadata": {
    "pycharm": {
     "name": "#%%\n"
    }
   },
   "outputs": [],
   "source": [
    "def cleseg_voroni_otsu(image: np.ndarray,\n",
    "                       sigma_spot_detection: int = 5,\n",
    "                       sigma_outline: int = 1,\n",
    "                       convert2numpy: bool = True,\n",
    "                       verbose: bool = False) -> Union[np.ndarray, cle.Image]:\n",
    "\n",
    "    # based on: https://biapol.github.io/HIP_Introduction_to_Napari_and_image_processing_with_Python_2022/07_Image_segmentation/02_voronoi_otsu_labeling.html\n",
    "\n",
    "    # transfer the image to the GPU\n",
    "    image_to_segment = cle.asarray(image)\n",
    "\n",
    "    # blur the image with a given sigma and detect maxima in the resulting image.\n",
    "    blurred = cle.gaussian_blur(image_to_segment, sigma_x=sigma_spot_detection, sigma_y=sigma_spot_detection, sigma_z=sigma_spot_detection)\n",
    "\n",
    "    detected_spots = cle.detect_maxima_box(blurred, radius_x=0, radius_y=0, radius_z=0)\n",
    "\n",
    "    if verbose:\n",
    "        number_of_spots = cle.sum_of_all_pixels(detected_spots)\n",
    "        print(\"Detected spots\", number_of_spots)\n",
    "\n",
    "    # blur it again with a different sigma and run threshold the image\n",
    "    blurred2 = cle.gaussian_blur(image_to_segment, sigma_x=sigma_outline, sigma_y=sigma_outline, sigma_z=sigma_outline)\n",
    "    binary = cle.threshold_otsu(blurred2)\n",
    "\n",
    "    # take the binary spots and segmentation image, apply a binary_and\n",
    "    # to exclude spots which were detected in the background area.\n",
    "    selected_spots = cle.binary_and(binary, detected_spots)\n",
    "\n",
    "    if verbose:\n",
    "        number_of_spots = cle.sum_of_all_pixels(selected_spots)\n",
    "        print(\"Selected spots\", number_of_spots)\n",
    "\n",
    "    # convert back to numpy array\n",
    "    labeling = cle.masked_voronoi_labeling(selected_spots, binary)\n",
    "\n",
    "    if convert2numpy:\n",
    "        labeling = cle.pull(labeling)\n",
    "\n",
    "    return labeling"
   ]
  },
  {
   "cell_type": "code",
   "execution_count": 6,
   "metadata": {},
   "outputs": [],
   "source": [
    "# try to find the folder with data and download otherwise from GitHub.\n",
    "\n",
    "# Folder containing the input data\n",
    "if IN_COLAB:\n",
    "    INPUT_FOLDER = 'data/'\n",
    "if not IN_COLAB:\n",
    "    INPUT_FOLDER = '../../data/'\n",
    "\n",
    "# Path to the data on GitHub\n",
    "GITHUB_IMAGES_PATH = \"https://raw.githubusercontent.com/sebi06/czitools/main/data.zip\"\n",
    "\n",
    "# Download data\n",
    "if not (os.path.isdir(INPUT_FOLDER)):\n",
    "    compressed_data = './data.zip'\n",
    "    if not os.path.isfile(compressed_data):\n",
    "        import io\n",
    "        response = requests.get(GITHUB_IMAGES_PATH, stream=True)\n",
    "        compressed_data = io.BytesIO(response.content)\n",
    "\n",
    "    import zipfile\n",
    "    with zipfile.ZipFile(compressed_data, 'r') as zip_accessor:\n",
    "        zip_accessor.extractall('./')"
   ]
  },
  {
   "cell_type": "code",
   "execution_count": 7,
   "metadata": {},
   "outputs": [
    {
     "name": "stdout",
     "output_type": "stream",
     "text": [
      "Selected FilePath:  /datadisk1/Github/czitools/data/w96_A1+A2.czi\n"
     ]
    }
   ],
   "source": [
    "if IN_COLAB:\n",
    "    filepath = os.path.join(os.getcwd(), \"data/w96_A1+A2.czi\")\n",
    "\n",
    "if not IN_COLAB:\n",
    "    defaultdir = os.path.join(Path(os.getcwd()).resolve().parents[1], \"data\")\n",
    "    filepath = os.path.join(defaultdir, \"w96_A1+A2.czi\")\n",
    "\n",
    "print(\"Selected FilePath: \", filepath)"
   ]
  },
  {
   "cell_type": "code",
   "execution_count": 8,
   "metadata": {
    "pycharm": {
     "name": "#%%\n"
    }
   },
   "outputs": [
    {
     "name": "stdout",
     "output_type": "stream",
     "text": [
      "Available OpenCL devices:['NVIDIA GeForce GTX 1050']\n",
      "Used GPU:  0x5ef6590e62a0\n"
     ]
    }
   ],
   "source": [
    "if IN_COLAB:\n",
    "    # see: https://forum.image.sc/t/stackview-pyclesperanto-prototype-demo-on-colab-cant-use-gpu/80145/4?u=sebi06\n",
    "    cle.select_device(\"cupy\")\n",
    "\n",
    "if not IN_COLAB:\n",
    "    # list names of all available OpenCL-devices\n",
    "    print(\"Available OpenCL devices:\" + str(cle.available_device_names()))\n",
    "\n",
    "    # select a specific OpenCL / GPU device and see which one was chosen\n",
    "    # please adapt as needed !\n",
    "    device = cle.select_device(\"NVIDIA RTX A3000 Laptop GPU\")\n",
    "    print(\"Used GPU: \", device)"
   ]
  },
  {
   "cell_type": "code",
   "execution_count": 9,
   "metadata": {
    "pycharm": {
     "name": "#%%\n"
    }
   },
   "outputs": [],
   "source": [
    "# define columns names for dataframe for the measure objects\n",
    "cols = [\"WellId\", \"Well_ColId\", \"Well_RowId\", \"S\", \"T\", \"Z\", \"C\", \"Number\"]\n",
    "objects = pd.DataFrame(columns=cols)\n",
    "results = pd.DataFrame()\n",
    "\n",
    "# define the nucleus channel and parameters\n",
    "chindex = 0\n",
    "sigma_spot_detection = 5\n",
    "sigma_outline = 1\n",
    "minsize = 100  # minimum object size [pixel]\n",
    "maxsize = 500  # maximum object size [pixel]"
   ]
  },
  {
   "cell_type": "code",
   "execution_count": 10,
   "metadata": {
    "pycharm": {
     "name": "#%%\n"
    }
   },
   "outputs": [],
   "source": [
    "# define region properties to be measured and their units\n",
    "to_measure = ('label',\n",
    "              'area',\n",
    "              'centroid',\n",
    "              'max_intensity',\n",
    "              'mean_intensity',\n",
    "              'min_intensity',\n",
    "              'bbox'\n",
    "              )\n",
    "\n",
    "units = [\"micron**2\", \"pixel\", \"pixel\", \"cts\", \"counts\", \"cts\", ]"
   ]
  },
  {
   "cell_type": "code",
   "execution_count": 11,
   "metadata": {
    "pycharm": {
     "name": "#%%\n"
    }
   },
   "outputs": [],
   "source": [
    "# get the complete metadata at once as one big class\n",
    "mdata = czimd.CziMetadata(filepath)\n",
    "\n",
    "# check if dimensions are None (because they do not exist for that image)\n",
    "size_c = misc.check_dimsize(mdata.image.SizeC, set2value=1)\n",
    "size_z = misc.check_dimsize(mdata.image.SizeZ, set2value=1)\n",
    "size_t = misc.check_dimsize(mdata.image.SizeT, set2value=1)\n",
    "size_s = misc.check_dimsize(mdata.image.SizeS, set2value=1)"
   ]
  },
  {
   "cell_type": "code",
   "execution_count": 12,
   "metadata": {
    "pycharm": {
     "name": "#%%\n"
    }
   },
   "outputs": [
    {
     "data": {
      "application/vnd.jupyter.widget-view+json": {
       "model_id": "d9a2aaad51244f5494204baef08a900b",
       "version_major": 2,
       "version_minor": 0
      },
      "text/plain": [
       "  0%|          | 0/2 [00:00<?, ?it/s]"
      ]
     },
     "metadata": {},
     "output_type": "display_data"
    },
    {
     "name": "stdout",
     "output_type": "stream",
     "text": [
      "Well: A1  Objects:  109\n",
      "Well: A2  Objects:  103\n"
     ]
    }
   ],
   "source": [
    "# open the original CZI document to read 2D image planes\n",
    "with pyczi.open_czi(filepath) as czidoc_r:\n",
    "\n",
    "    # read 2d array by looping over the planes except for the channel\n",
    "    for s, t, z in product(range(size_s),\n",
    "                           range(size_t),\n",
    "                           range(size_z)):\n",
    "\n",
    "        # get the current plane indices and store them\n",
    "        values = {'S': s, 'T': t, 'Z': z, 'C': chindex, 'Number': 0}\n",
    "\n",
    "        # read 2D plane in case there are (no) scenes\n",
    "        if mdata.image.SizeS is None:\n",
    "            image2d = czidoc_r.read(plane={'T': t, 'Z': z, 'C': chindex})[..., 0]\n",
    "        else:\n",
    "            image2d = czidoc_r.read(plane={'T': t, 'Z': z, 'C': chindex}, scene=s)[..., 0]\n",
    "\n",
    "        # do the voroni-otsu segmentation with GPU accelleration\n",
    "        labels = cleseg_voroni_otsu(image2d,\n",
    "                                    sigma_spot_detection=sigma_spot_detection,\n",
    "                                    sigma_outline=sigma_outline,\n",
    "                                    convert2numpy=True,\n",
    "                                    verbose=False)\n",
    "\n",
    "        # clear the border by removing \"touching\" objects\n",
    "        labels = segmentation.clear_border(labels)\n",
    "\n",
    "        # measure the specified parameters store in dataframe\n",
    "        props = pd.DataFrame(measure.regionprops_table(labels,\n",
    "                                                       intensity_image=image2d,\n",
    "                                                       properties=to_measure)).set_index('label')\n",
    "\n",
    "        # filter objects by size\n",
    "        props = props[(props['area'] >= minsize) & (props['area'] <= maxsize)]\n",
    "\n",
    "        # add well information from CZI metadata\n",
    "        try:\n",
    "            props['WellId'] = mdata.sample.well_array_names[s]\n",
    "            props['Well_ColId'] = mdata.sample.well_colID[s]\n",
    "            props['Well_RowId'] = mdata.sample.well_rowID[s]\n",
    "        except (IndexError, KeyError) as error:\n",
    "            print('Error:', error)\n",
    "            print('Well Information not found. Using S-Index.')\n",
    "            props['WellId'] = s\n",
    "            props['Well_ColId'] = s\n",
    "            props['Well_RowId'] = s\n",
    "\n",
    "        # add plane indices\n",
    "        props['S'] = s\n",
    "        props['T'] = t\n",
    "        props['Z'] = z\n",
    "        props['C'] = chindex\n",
    "\n",
    "        values = {\"WellId\": props['WellId'],\n",
    "                  \"Well_ColId\": props['Well_ColId'],\n",
    "                  \"Well_RowId\": props['Well_RowId'],\n",
    "                  \"S\": s,\n",
    "                  \"T\": t,\n",
    "                  \"Z\": z,\n",
    "                  \"C\": chindex,\n",
    "                  \"Number\": props.shape[0]}\n",
    "\n",
    "        print('Well:', props['WellId'].iloc[0], ' Objects: ', values['Number'])\n",
    "\n",
    "        # update dataframe containing the number of objects\n",
    "        objects = pd.concat([objects, pd.DataFrame(values, index=[0])], ignore_index=True)\n",
    "        results = pd.concat([results, props], ignore_index=True)"
   ]
  },
  {
   "cell_type": "code",
   "execution_count": 13,
   "metadata": {
    "pycharm": {
     "name": "#%%\n"
    }
   },
   "outputs": [
    {
     "data": {
      "text/html": [
       "<div>\n",
       "<style scoped>\n",
       "    .dataframe tbody tr th:only-of-type {\n",
       "        vertical-align: middle;\n",
       "    }\n",
       "\n",
       "    .dataframe tbody tr th {\n",
       "        vertical-align: top;\n",
       "    }\n",
       "\n",
       "    .dataframe thead th {\n",
       "        text-align: right;\n",
       "    }\n",
       "</style>\n",
       "<table border=\"1\" class=\"dataframe\">\n",
       "  <thead>\n",
       "    <tr style=\"text-align: right;\">\n",
       "      <th></th>\n",
       "      <th>WellId</th>\n",
       "      <th>Well_ColId</th>\n",
       "      <th>Well_RowId</th>\n",
       "      <th>S</th>\n",
       "      <th>T</th>\n",
       "      <th>Z</th>\n",
       "      <th>C</th>\n",
       "      <th>area</th>\n",
       "      <th>centroid-0</th>\n",
       "      <th>centroid-1</th>\n",
       "      <th>max_intensity</th>\n",
       "      <th>mean_intensity</th>\n",
       "      <th>min_intensity</th>\n",
       "      <th>bbox-0</th>\n",
       "      <th>bbox-1</th>\n",
       "      <th>bbox-2</th>\n",
       "      <th>bbox-3</th>\n",
       "    </tr>\n",
       "  </thead>\n",
       "  <tbody>\n",
       "    <tr>\n",
       "      <th>0</th>\n",
       "      <td>A1</td>\n",
       "      <td>1</td>\n",
       "      <td>1</td>\n",
       "      <td>0</td>\n",
       "      <td>0</td>\n",
       "      <td>0</td>\n",
       "      <td>0</td>\n",
       "      <td>333.0</td>\n",
       "      <td>12.609610</td>\n",
       "      <td>206.078078</td>\n",
       "      <td>1476.0</td>\n",
       "      <td>1166.438438</td>\n",
       "      <td>942.0</td>\n",
       "      <td>3</td>\n",
       "      <td>191</td>\n",
       "      <td>23</td>\n",
       "      <td>218</td>\n",
       "    </tr>\n",
       "    <tr>\n",
       "      <th>1</th>\n",
       "      <td>A1</td>\n",
       "      <td>1</td>\n",
       "      <td>1</td>\n",
       "      <td>0</td>\n",
       "      <td>0</td>\n",
       "      <td>0</td>\n",
       "      <td>0</td>\n",
       "      <td>294.0</td>\n",
       "      <td>12.278912</td>\n",
       "      <td>1014.095238</td>\n",
       "      <td>1923.0</td>\n",
       "      <td>1322.197279</td>\n",
       "      <td>956.0</td>\n",
       "      <td>4</td>\n",
       "      <td>1004</td>\n",
       "      <td>22</td>\n",
       "      <td>1024</td>\n",
       "    </tr>\n",
       "    <tr>\n",
       "      <th>2</th>\n",
       "      <td>A1</td>\n",
       "      <td>1</td>\n",
       "      <td>1</td>\n",
       "      <td>0</td>\n",
       "      <td>0</td>\n",
       "      <td>0</td>\n",
       "      <td>0</td>\n",
       "      <td>379.0</td>\n",
       "      <td>24.686016</td>\n",
       "      <td>911.385224</td>\n",
       "      <td>2020.0</td>\n",
       "      <td>1454.395778</td>\n",
       "      <td>974.0</td>\n",
       "      <td>12</td>\n",
       "      <td>902</td>\n",
       "      <td>39</td>\n",
       "      <td>921</td>\n",
       "    </tr>\n",
       "    <tr>\n",
       "      <th>3</th>\n",
       "      <td>A1</td>\n",
       "      <td>1</td>\n",
       "      <td>1</td>\n",
       "      <td>0</td>\n",
       "      <td>0</td>\n",
       "      <td>0</td>\n",
       "      <td>0</td>\n",
       "      <td>279.0</td>\n",
       "      <td>29.842294</td>\n",
       "      <td>255.232975</td>\n",
       "      <td>1387.0</td>\n",
       "      <td>1130.892473</td>\n",
       "      <td>942.0</td>\n",
       "      <td>18</td>\n",
       "      <td>247</td>\n",
       "      <td>42</td>\n",
       "      <td>264</td>\n",
       "    </tr>\n",
       "    <tr>\n",
       "      <th>4</th>\n",
       "      <td>A1</td>\n",
       "      <td>1</td>\n",
       "      <td>1</td>\n",
       "      <td>0</td>\n",
       "      <td>0</td>\n",
       "      <td>0</td>\n",
       "      <td>0</td>\n",
       "      <td>334.0</td>\n",
       "      <td>29.074850</td>\n",
       "      <td>420.059880</td>\n",
       "      <td>3714.0</td>\n",
       "      <td>2416.416168</td>\n",
       "      <td>780.0</td>\n",
       "      <td>20</td>\n",
       "      <td>407</td>\n",
       "      <td>39</td>\n",
       "      <td>433</td>\n",
       "    </tr>\n",
       "  </tbody>\n",
       "</table>\n",
       "</div>"
      ],
      "text/plain": [
       "  WellId  Well_ColId  Well_RowId  S  T  Z  C   area  centroid-0   centroid-1  \\\n",
       "0     A1           1           1  0  0  0  0  333.0   12.609610   206.078078   \n",
       "1     A1           1           1  0  0  0  0  294.0   12.278912  1014.095238   \n",
       "2     A1           1           1  0  0  0  0  379.0   24.686016   911.385224   \n",
       "3     A1           1           1  0  0  0  0  279.0   29.842294   255.232975   \n",
       "4     A1           1           1  0  0  0  0  334.0   29.074850   420.059880   \n",
       "\n",
       "   max_intensity  mean_intensity  min_intensity  bbox-0  bbox-1  bbox-2  \\\n",
       "0         1476.0     1166.438438          942.0       3     191      23   \n",
       "1         1923.0     1322.197279          956.0       4    1004      22   \n",
       "2         2020.0     1454.395778          974.0      12     902      39   \n",
       "3         1387.0     1130.892473          942.0      18     247      42   \n",
       "4         3714.0     2416.416168          780.0      20     407      39   \n",
       "\n",
       "   bbox-3  \n",
       "0     218  \n",
       "1    1024  \n",
       "2     921  \n",
       "3     264  \n",
       "4     433  "
      ]
     },
     "execution_count": 13,
     "metadata": {},
     "output_type": "execute_result"
    }
   ],
   "source": [
    "# reorder dataframe with single objects and show some results\n",
    "new_order = list(results.columns[-7:]) + list(results.columns[:-7])\n",
    "results = results.reindex(columns=new_order)\n",
    "results[:5]"
   ]
  }
 ],
 "metadata": {
  "kernelspec": {
   "display_name": "zenpy",
   "language": "python",
   "name": "python3"
  },
  "language_info": {
   "codemirror_mode": {
    "name": "ipython",
    "version": 3
   },
   "file_extension": ".py",
   "mimetype": "text/x-python",
   "name": "python",
   "nbconvert_exporter": "python",
   "pygments_lexer": "ipython3",
   "version": "3.11.13"
  },
  "toc": {
   "base_numbering": 1
  }
 },
 "nbformat": 4,
 "nbformat_minor": 4
}
