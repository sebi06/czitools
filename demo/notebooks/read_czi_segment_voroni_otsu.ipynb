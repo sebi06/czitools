{
 "cells": [
  {
   "cell_type": "markdown",
   "metadata": {
    "editable": true,
    "pycharm": {
     "name": "#%% md\n"
    },
    "slideshow": {
     "slide_type": "slide"
    },
    "tags": []
   },
   "source": [
    "## Prerequisites\n",
    "\n",
    "In order to run this notebook one needs to have pyclesperanto installed !\n",
    "\n",
    "For details on how to do this check: [pyclesperanto_prototype](https://github.com/clEsperanto/pyclesperanto_prototype)\n",
    "\n",
    "**Important: Right now this only works if one is using a GPU colab runtime!**"
   ]
  },
  {
   "cell_type": "code",
   "execution_count": 1,
   "metadata": {},
   "outputs": [],
   "source": [
    "try:\n",
    "  import google.colab\n",
    "  IN_COLAB = True\n",
    "except:\n",
    "  IN_COLAB = False"
   ]
  },
  {
   "cell_type": "code",
   "execution_count": 2,
   "metadata": {},
   "outputs": [],
   "source": [
    "if IN_COLAB:\n",
    "  # Install dependencies\n",
    "  ! pip install --upgrade pip\n",
    "  ! pip install czitools\n",
    "  ! pip install pyclesperanto-prototype\n",
    "  ! pip install pyopencl"
   ]
  },
  {
   "cell_type": "code",
   "execution_count": 3,
   "metadata": {
    "collapsed": false,
    "jupyter": {
     "outputs_hidden": false
    },
    "pycharm": {
     "is_executing": true,
     "name": "#%%\n"
    }
   },
   "outputs": [],
   "source": [
    "# import the required libraries\n",
    "from czitools.metadata_tools import czi_metadata as czimd\n",
    "from czitools.utils import misc\n",
    "from pylibCZIrw import czi as pyczi\n",
    "from pathlib import Path\n",
    "import os\n",
    "import pandas as pd\n",
    "from skimage import measure, segmentation\n",
    "from tqdm.contrib.itertools import product\n",
    "import pyclesperanto_prototype as cle\n",
    "from typing import Union\n",
    "import numpy as np\n",
    "import requests"
   ]
  },
  {
   "cell_type": "code",
   "execution_count": 4,
   "metadata": {
    "pycharm": {
     "name": "#%%\n"
    }
   },
   "outputs": [],
   "source": [
    "def cleseg_voroni_otsu(image: np.ndarray,\n",
    "                       sigma_spot_detection: int = 5,\n",
    "                       sigma_outline: int = 1,\n",
    "                       convert2numpy: bool = True,\n",
    "                       verbose: bool = False) -> Union[np.ndarray, cle.Image]:\n",
    "\n",
    "    # based on: https://biapol.github.io/HIP_Introduction_to_Napari_and_image_processing_with_Python_2022/07_Image_segmentation/02_voronoi_otsu_labeling.html\n",
    "\n",
    "    # transfer the image to the GPU\n",
    "    image_to_segment = cle.asarray(image)\n",
    "\n",
    "    # blur the image with a given sigma and detect maxima in the resulting image.\n",
    "    blurred = cle.gaussian_blur(image_to_segment, sigma_x=sigma_spot_detection, sigma_y=sigma_spot_detection, sigma_z=sigma_spot_detection)\n",
    "\n",
    "    detected_spots = cle.detect_maxima_box(blurred, radius_x=0, radius_y=0, radius_z=0)\n",
    "\n",
    "    if verbose:\n",
    "        number_of_spots = cle.sum_of_all_pixels(detected_spots)\n",
    "        print(\"Detected spots\", number_of_spots)\n",
    "\n",
    "    # blur it again with a different sigma and run threshold the image\n",
    "    blurred2 = cle.gaussian_blur(image_to_segment, sigma_x=sigma_outline, sigma_y=sigma_outline, sigma_z=sigma_outline)\n",
    "    binary = cle.threshold_otsu(blurred2)\n",
    "\n",
    "    # take the binary spots and segmentation image, apply a binary_and\n",
    "    # to exclude spots which were detected in the background area.\n",
    "    selected_spots = cle.binary_and(binary, detected_spots)\n",
    "\n",
    "    if verbose:\n",
    "        number_of_spots = cle.sum_of_all_pixels(selected_spots)\n",
    "        print(\"Selected spots\", number_of_spots)\n",
    "\n",
    "    # convert back to numpy array\n",
    "    labeling = cle.masked_voronoi_labeling(selected_spots, binary)\n",
    "\n",
    "    if convert2numpy:\n",
    "        labeling = cle.pull(labeling)\n",
    "\n",
    "    return labeling"
   ]
  },
  {
   "cell_type": "code",
   "execution_count": 5,
   "metadata": {},
   "outputs": [],
   "source": [
    "# try to find the folder with data and download otherwise from GitHub.\n",
    "\n",
    "# Folder containing the input data\n",
    "if IN_COLAB:\n",
    "    INPUT_FOLDER = 'data/'\n",
    "if not IN_COLAB:\n",
    "    INPUT_FOLDER = '../../data/'\n",
    "\n",
    "# Path to the data on GitHub\n",
    "GITHUB_IMAGES_PATH = \"https://raw.githubusercontent.com/sebi06/czitools/main/data.zip\"\n",
    "\n",
    "# Download data\n",
    "if not (os.path.isdir(INPUT_FOLDER)):\n",
    "    compressed_data = './data.zip'\n",
    "    if not os.path.isfile(compressed_data):\n",
    "        import io\n",
    "        response = requests.get(GITHUB_IMAGES_PATH, stream=True)\n",
    "        compressed_data = io.BytesIO(response.content)\n",
    "\n",
    "    import zipfile\n",
    "    with zipfile.ZipFile(compressed_data, 'r') as zip_accessor:\n",
    "        zip_accessor.extractall('./')"
   ]
  },
  {
   "cell_type": "code",
   "execution_count": 6,
   "metadata": {},
   "outputs": [
    {
     "name": "stdout",
     "output_type": "stream",
     "text": [
      "Selected FilePath:  F:\\Github\\czitools\\data\\w96_A1+A2.czi\n"
     ]
    }
   ],
   "source": [
    "if IN_COLAB:\n",
    "    filepath = os.path.join(os.getcwd(), \"data/w96_A1+A2.czi\")\n",
    "\n",
    "if not IN_COLAB:\n",
    "    defaultdir = os.path.join(Path(os.getcwd()).resolve().parents[1], \"data\")\n",
    "    filepath = os.path.join(defaultdir, \"w96_A1+A2.czi\")\n",
    "\n",
    "print(\"Selected FilePath: \", filepath)"
   ]
  },
  {
   "cell_type": "code",
   "execution_count": 7,
   "metadata": {
    "pycharm": {
     "name": "#%%\n"
    }
   },
   "outputs": [
    {
     "name": "stdout",
     "output_type": "stream",
     "text": [
      "Available OpenCL devices:['NVIDIA RTX A3000 Laptop GPU', 'Intel(R) UHD Graphics']\n",
      "Used GPU:  <NVIDIA RTX A3000 Laptop GPU on Platform: NVIDIA CUDA (1 refs)>\n"
     ]
    }
   ],
   "source": [
    "if IN_COLAB:\n",
    "    # see: https://forum.image.sc/t/stackview-pyclesperanto-prototype-demo-on-colab-cant-use-gpu/80145/4?u=sebi06\n",
    "    cle.select_device(\"cupy\")\n",
    "\n",
    "if not IN_COLAB:\n",
    "    # list names of all available OpenCL-devices\n",
    "    print(\"Available OpenCL devices:\" + str(cle.available_device_names()))\n",
    "\n",
    "    # select a specific OpenCL / GPU device and see which one was chosen\n",
    "    # please adapt as needed !\n",
    "    device = cle.select_device(\"NVIDIA RTX A3000 Laptop GPU\")\n",
    "    print(\"Used GPU: \", device)"
   ]
  },
  {
   "cell_type": "code",
   "execution_count": 8,
   "metadata": {
    "pycharm": {
     "name": "#%%\n"
    }
   },
   "outputs": [],
   "source": [
    "# define columns names for dataframe for the measure objects\n",
    "cols = [\"WellId\", \"Well_ColId\", \"Well_RowId\", \"S\", \"T\", \"Z\", \"C\", \"Number\"]\n",
    "objects = pd.DataFrame(columns=cols)\n",
    "results = pd.DataFrame()\n",
    "\n",
    "# define the nucleus channel and parameters\n",
    "chindex = 0\n",
    "sigma_spot_detection = 5\n",
    "sigma_outline = 1\n",
    "minsize = 100  # minimum object size [pixel]\n",
    "maxsize = 500  # maximum object size [pixel]"
   ]
  },
  {
   "cell_type": "code",
   "execution_count": 9,
   "metadata": {
    "pycharm": {
     "name": "#%%\n"
    }
   },
   "outputs": [],
   "source": [
    "# define region properties to be measured and their units\n",
    "to_measure = ('label',\n",
    "              'area',\n",
    "              'centroid',\n",
    "              'max_intensity',\n",
    "              'mean_intensity',\n",
    "              'min_intensity',\n",
    "              'bbox'\n",
    "              )\n",
    "\n",
    "units = [\"micron**2\", \"pixel\", \"pixel\", \"cts\", \"counts\", \"cts\", ]"
   ]
  },
  {
   "cell_type": "code",
   "execution_count": 10,
   "metadata": {
    "pycharm": {
     "name": "#%%\n"
    }
   },
   "outputs": [],
   "source": [
    "# get the complete metadata at once as one big class\n",
    "mdata = czimd.CziMetadata(filepath)\n",
    "\n",
    "# check if dimensions are None (because they do not exist for that image)\n",
    "size_c = misc.check_dimsize(mdata.image.SizeC, set2value=1)\n",
    "size_z = misc.check_dimsize(mdata.image.SizeZ, set2value=1)\n",
    "size_t = misc.check_dimsize(mdata.image.SizeT, set2value=1)\n",
    "size_s = misc.check_dimsize(mdata.image.SizeS, set2value=1)"
   ]
  },
  {
   "cell_type": "code",
   "execution_count": 11,
   "metadata": {
    "pycharm": {
     "name": "#%%\n"
    }
   },
   "outputs": [
    {
     "data": {
      "application/vnd.jupyter.widget-view+json": {
       "model_id": "b8ad784642054d0398f42cee97e470b0",
       "version_major": 2,
       "version_minor": 0
      },
      "text/plain": [
       "  0%|          | 0/2 [00:00<?, ?it/s]"
      ]
     },
     "metadata": {},
     "output_type": "display_data"
    },
    {
     "name": "stdout",
     "output_type": "stream",
     "text": [
      "Well: A1  Objects:  107\n",
      "Well: A2  Objects:  102\n"
     ]
    }
   ],
   "source": [
    "# open the original CZI document to read 2D image planes\n",
    "with pyczi.open_czi(filepath) as czidoc_r:\n",
    "\n",
    "    # read 2d array by looping over the planes except for the channel\n",
    "    for s, t, z in product(range(size_s),\n",
    "                           range(size_t),\n",
    "                           range(size_z)):\n",
    "\n",
    "        # get the current plane indices and store them\n",
    "        values = {'S': s, 'T': t, 'Z': z, 'C': chindex, 'Number': 0}\n",
    "\n",
    "        # read 2D plane in case there are (no) scenes\n",
    "        if mdata.image.SizeS is None:\n",
    "            image2d = czidoc_r.read(plane={'T': t, 'Z': z, 'C': chindex})[..., 0]\n",
    "        else:\n",
    "            image2d = czidoc_r.read(plane={'T': t, 'Z': z, 'C': chindex}, scene=s)[..., 0]\n",
    "\n",
    "        # do the voroni-otsu segmentation with GPU accelleration\n",
    "        labels = cleseg_voroni_otsu(image2d,\n",
    "                                    sigma_spot_detection=sigma_spot_detection,\n",
    "                                    sigma_outline=sigma_outline,\n",
    "                                    convert2numpy=True,\n",
    "                                    verbose=False)\n",
    "\n",
    "        # clear the border by removing \"touching\" objects\n",
    "        labels = segmentation.clear_border(labels)\n",
    "\n",
    "        # measure the specified parameters store in dataframe\n",
    "        props = pd.DataFrame(measure.regionprops_table(labels,\n",
    "                                                       intensity_image=image2d,\n",
    "                                                       properties=to_measure)).set_index('label')\n",
    "\n",
    "        # filter objects by size\n",
    "        props = props[(props['area'] >= minsize) & (props['area'] <= maxsize)]\n",
    "\n",
    "        # add well information from CZI metadata\n",
    "        try:\n",
    "            props['WellId'] = mdata.sample.well_array_names[s]\n",
    "            props['Well_ColId'] = mdata.sample.well_colID[s]\n",
    "            props['Well_RowId'] = mdata.sample.well_rowID[s]\n",
    "        except (IndexError, KeyError) as error:\n",
    "            print('Error:', error)\n",
    "            print('Well Information not found. Using S-Index.')\n",
    "            props['WellId'] = s\n",
    "            props['Well_ColId'] = s\n",
    "            props['Well_RowId'] = s\n",
    "\n",
    "        # add plane indices\n",
    "        props['S'] = s\n",
    "        props['T'] = t\n",
    "        props['Z'] = z\n",
    "        props['C'] = chindex\n",
    "\n",
    "        values = {\"WellId\": props['WellId'],\n",
    "                  \"Well_ColId\": props['Well_ColId'],\n",
    "                  \"Well_RowId\": props['Well_RowId'],\n",
    "                  \"S\": s,\n",
    "                  \"T\": t,\n",
    "                  \"Z\": z,\n",
    "                  \"C\": chindex,\n",
    "                  \"Number\": props.shape[0]}\n",
    "\n",
    "        print('Well:', props['WellId'].iloc[0], ' Objects: ', values['Number'])\n",
    "\n",
    "        # update dataframe containing the number of objects\n",
    "        objects = pd.concat([objects, pd.DataFrame(values, index=[0])], ignore_index=True)\n",
    "        results = pd.concat([results, props], ignore_index=True)"
   ]
  },
  {
   "cell_type": "code",
   "execution_count": 12,
   "metadata": {
    "pycharm": {
     "name": "#%%\n"
    }
   },
   "outputs": [
    {
     "data": {
      "application/vnd.microsoft.datawrangler.viewer.v0+json": {
       "columns": [
        {
         "name": "index",
         "rawType": "int64",
         "type": "integer"
        },
        {
         "name": "WellId",
         "rawType": "object",
         "type": "string"
        },
        {
         "name": "Well_ColId",
         "rawType": "int64",
         "type": "integer"
        },
        {
         "name": "Well_RowId",
         "rawType": "int64",
         "type": "integer"
        },
        {
         "name": "S",
         "rawType": "int64",
         "type": "integer"
        },
        {
         "name": "T",
         "rawType": "int64",
         "type": "integer"
        },
        {
         "name": "Z",
         "rawType": "int64",
         "type": "integer"
        },
        {
         "name": "C",
         "rawType": "int64",
         "type": "integer"
        },
        {
         "name": "area",
         "rawType": "float64",
         "type": "float"
        },
        {
         "name": "centroid-0",
         "rawType": "float64",
         "type": "float"
        },
        {
         "name": "centroid-1",
         "rawType": "float64",
         "type": "float"
        },
        {
         "name": "max_intensity",
         "rawType": "float64",
         "type": "float"
        },
        {
         "name": "mean_intensity",
         "rawType": "float64",
         "type": "float"
        },
        {
         "name": "min_intensity",
         "rawType": "float64",
         "type": "float"
        },
        {
         "name": "bbox-0",
         "rawType": "int32",
         "type": "integer"
        },
        {
         "name": "bbox-1",
         "rawType": "int32",
         "type": "integer"
        },
        {
         "name": "bbox-2",
         "rawType": "int32",
         "type": "integer"
        },
        {
         "name": "bbox-3",
         "rawType": "int32",
         "type": "integer"
        }
       ],
       "conversionMethod": "pd.DataFrame",
       "ref": "18e3d70b-f4e8-43a2-adff-17ee4b380dda",
       "rows": [
        [
         "0",
         "A1",
         "1",
         "1",
         "0",
         "0",
         "0",
         "0",
         "218.0",
         "66.52752293577981",
         "15.954128440366972",
         "1295.0",
         "1091.7064220183486",
         "964.0",
         "54",
         "11",
         "80",
         "23"
        ],
        [
         "1",
         "A1",
         "1",
         "1",
         "0",
         "0",
         "0",
         "0",
         "431.0",
         "1121.2575406032483",
         "16.011600928074245",
         "3247.0",
         "1988.2180974477958",
         "830.0",
         "1108",
         "7",
         "1137",
         "28"
        ],
        [
         "2",
         "A1",
         "1",
         "1",
         "0",
         "0",
         "0",
         "0",
         "360.0",
         "149.44166666666666",
         "29.65277777777778",
         "5566.0",
         "3049.311111111111",
         "843.0",
         "136",
         "21",
         "164",
         "39"
        ],
        [
         "3",
         "A1",
         "1",
         "1",
         "0",
         "0",
         "0",
         "0",
         "313.0",
         "266.40255591054313",
         "51.63258785942492",
         "1567.0",
         "1131.1948881789137",
         "964.0",
         "256",
         "39",
         "279",
         "64"
        ],
        [
         "4",
         "A1",
         "1",
         "1",
         "0",
         "0",
         "0",
         "0",
         "471.0",
         "714.5668789808917",
         "63.90870488322717",
         "7089.0",
         "3380.7133757961783",
         "731.0",
         "704",
         "49",
         "728",
         "78"
        ]
       ],
       "shape": {
        "columns": 17,
        "rows": 5
       }
      },
      "text/html": [
       "<div>\n",
       "<style scoped>\n",
       "    .dataframe tbody tr th:only-of-type {\n",
       "        vertical-align: middle;\n",
       "    }\n",
       "\n",
       "    .dataframe tbody tr th {\n",
       "        vertical-align: top;\n",
       "    }\n",
       "\n",
       "    .dataframe thead th {\n",
       "        text-align: right;\n",
       "    }\n",
       "</style>\n",
       "<table border=\"1\" class=\"dataframe\">\n",
       "  <thead>\n",
       "    <tr style=\"text-align: right;\">\n",
       "      <th></th>\n",
       "      <th>WellId</th>\n",
       "      <th>Well_ColId</th>\n",
       "      <th>Well_RowId</th>\n",
       "      <th>S</th>\n",
       "      <th>T</th>\n",
       "      <th>Z</th>\n",
       "      <th>C</th>\n",
       "      <th>area</th>\n",
       "      <th>centroid-0</th>\n",
       "      <th>centroid-1</th>\n",
       "      <th>max_intensity</th>\n",
       "      <th>mean_intensity</th>\n",
       "      <th>min_intensity</th>\n",
       "      <th>bbox-0</th>\n",
       "      <th>bbox-1</th>\n",
       "      <th>bbox-2</th>\n",
       "      <th>bbox-3</th>\n",
       "    </tr>\n",
       "  </thead>\n",
       "  <tbody>\n",
       "    <tr>\n",
       "      <th>0</th>\n",
       "      <td>A1</td>\n",
       "      <td>1</td>\n",
       "      <td>1</td>\n",
       "      <td>0</td>\n",
       "      <td>0</td>\n",
       "      <td>0</td>\n",
       "      <td>0</td>\n",
       "      <td>218.0</td>\n",
       "      <td>66.527523</td>\n",
       "      <td>15.954128</td>\n",
       "      <td>1295.0</td>\n",
       "      <td>1091.706422</td>\n",
       "      <td>964.0</td>\n",
       "      <td>54</td>\n",
       "      <td>11</td>\n",
       "      <td>80</td>\n",
       "      <td>23</td>\n",
       "    </tr>\n",
       "    <tr>\n",
       "      <th>1</th>\n",
       "      <td>A1</td>\n",
       "      <td>1</td>\n",
       "      <td>1</td>\n",
       "      <td>0</td>\n",
       "      <td>0</td>\n",
       "      <td>0</td>\n",
       "      <td>0</td>\n",
       "      <td>431.0</td>\n",
       "      <td>1121.257541</td>\n",
       "      <td>16.011601</td>\n",
       "      <td>3247.0</td>\n",
       "      <td>1988.218097</td>\n",
       "      <td>830.0</td>\n",
       "      <td>1108</td>\n",
       "      <td>7</td>\n",
       "      <td>1137</td>\n",
       "      <td>28</td>\n",
       "    </tr>\n",
       "    <tr>\n",
       "      <th>2</th>\n",
       "      <td>A1</td>\n",
       "      <td>1</td>\n",
       "      <td>1</td>\n",
       "      <td>0</td>\n",
       "      <td>0</td>\n",
       "      <td>0</td>\n",
       "      <td>0</td>\n",
       "      <td>360.0</td>\n",
       "      <td>149.441667</td>\n",
       "      <td>29.652778</td>\n",
       "      <td>5566.0</td>\n",
       "      <td>3049.311111</td>\n",
       "      <td>843.0</td>\n",
       "      <td>136</td>\n",
       "      <td>21</td>\n",
       "      <td>164</td>\n",
       "      <td>39</td>\n",
       "    </tr>\n",
       "    <tr>\n",
       "      <th>3</th>\n",
       "      <td>A1</td>\n",
       "      <td>1</td>\n",
       "      <td>1</td>\n",
       "      <td>0</td>\n",
       "      <td>0</td>\n",
       "      <td>0</td>\n",
       "      <td>0</td>\n",
       "      <td>313.0</td>\n",
       "      <td>266.402556</td>\n",
       "      <td>51.632588</td>\n",
       "      <td>1567.0</td>\n",
       "      <td>1131.194888</td>\n",
       "      <td>964.0</td>\n",
       "      <td>256</td>\n",
       "      <td>39</td>\n",
       "      <td>279</td>\n",
       "      <td>64</td>\n",
       "    </tr>\n",
       "    <tr>\n",
       "      <th>4</th>\n",
       "      <td>A1</td>\n",
       "      <td>1</td>\n",
       "      <td>1</td>\n",
       "      <td>0</td>\n",
       "      <td>0</td>\n",
       "      <td>0</td>\n",
       "      <td>0</td>\n",
       "      <td>471.0</td>\n",
       "      <td>714.566879</td>\n",
       "      <td>63.908705</td>\n",
       "      <td>7089.0</td>\n",
       "      <td>3380.713376</td>\n",
       "      <td>731.0</td>\n",
       "      <td>704</td>\n",
       "      <td>49</td>\n",
       "      <td>728</td>\n",
       "      <td>78</td>\n",
       "    </tr>\n",
       "  </tbody>\n",
       "</table>\n",
       "</div>"
      ],
      "text/plain": [
       "  WellId  Well_ColId  Well_RowId  S  T  Z  C   area   centroid-0  centroid-1  \\\n",
       "0     A1           1           1  0  0  0  0  218.0    66.527523   15.954128   \n",
       "1     A1           1           1  0  0  0  0  431.0  1121.257541   16.011601   \n",
       "2     A1           1           1  0  0  0  0  360.0   149.441667   29.652778   \n",
       "3     A1           1           1  0  0  0  0  313.0   266.402556   51.632588   \n",
       "4     A1           1           1  0  0  0  0  471.0   714.566879   63.908705   \n",
       "\n",
       "   max_intensity  mean_intensity  min_intensity  bbox-0  bbox-1  bbox-2  \\\n",
       "0         1295.0     1091.706422          964.0      54      11      80   \n",
       "1         3247.0     1988.218097          830.0    1108       7    1137   \n",
       "2         5566.0     3049.311111          843.0     136      21     164   \n",
       "3         1567.0     1131.194888          964.0     256      39     279   \n",
       "4         7089.0     3380.713376          731.0     704      49     728   \n",
       "\n",
       "   bbox-3  \n",
       "0      23  \n",
       "1      28  \n",
       "2      39  \n",
       "3      64  \n",
       "4      78  "
      ]
     },
     "execution_count": 12,
     "metadata": {},
     "output_type": "execute_result"
    }
   ],
   "source": [
    "# reorder dataframe with single objects and show some results\n",
    "new_order = list(results.columns[-7:]) + list(results.columns[:-7])\n",
    "results = results.reindex(columns=new_order)\n",
    "results[:5]"
   ]
  }
 ],
 "metadata": {
  "kernelspec": {
   "display_name": "zenpy",
   "language": "python",
   "name": "python3"
  },
  "language_info": {
   "codemirror_mode": {
    "name": "ipython",
    "version": 3
   },
   "file_extension": ".py",
   "mimetype": "text/x-python",
   "name": "python",
   "nbconvert_exporter": "python",
   "pygments_lexer": "ipython3",
   "version": "3.11.11"
  },
  "toc": {
   "base_numbering": 1
  }
 },
 "nbformat": 4,
 "nbformat_minor": 4
}
