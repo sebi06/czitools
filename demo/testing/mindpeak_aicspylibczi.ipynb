{
 "cells": [
  {
   "cell_type": "code",
   "execution_count": 9,
   "metadata": {},
   "outputs": [],
   "source": [
    "from aicspylibczi import CziFile\n",
    "\n",
    "filepath = r\"F:\\Testdata_Zeiss\\Mindpeak\\28448e7c-3dbb-486e-ab57-c4fb3ade3f1d.czi\"\n",
    "\n",
    "numscenes = 5\n",
    "\n",
    "# Initialize the CZI object\n",
    "cz = CziFile(filepath)"
   ]
  },
  {
   "cell_type": "code",
   "execution_count": 14,
   "metadata": {},
   "outputs": [
    {
     "name": "stdout",
     "output_type": "stream",
     "text": [
      "Shape of scens is consistent: False\n",
      "CZI is a mosaic: True\n"
     ]
    }
   ],
   "source": [
    "is_shape_consistent = cz.shape_is_consistent\n",
    "is_mosaic = cz.is_mosaic()\n",
    "\n",
    "print(f\"Shape of scens is consistent: {is_shape_consistent}\")\n",
    "print(f\"CZI is a mosaic: {is_mosaic}\")"
   ]
  },
  {
   "cell_type": "code",
   "execution_count": 12,
   "metadata": {},
   "outputs": [
    {
     "name": "stdout",
     "output_type": "stream",
     "text": [
      "Mosaic Scene BBox 0: 7123, 7151\n",
      "Mosaic Scene BBox 1: 8863, 8893\n",
      "Mosaic Scene BBox 2: 8899, 7157\n",
      "Mosaic Scene BBox 3: 8901, 8891\n",
      "Mosaic Scene BBox 4: 7151, 8905\n"
     ]
    }
   ],
   "source": [
    "mosaic_scene_bbox = cz.get_all_mosaic_scene_bounding_boxes()\n",
    "\n",
    "for s in range(numscenes):\n",
    "\n",
    "    print(f\"Mosaic Scene BBox {s}: {mosaic_scene_bbox[s].w}, {mosaic_scene_bbox[s].h}\")\n",
    "    #mosaic_bbox = cz.get_mosaic_scene_bounding_box()\n",
    "    #scene_bbox = cz.get_mosaic_tile_bounding_box()\n",
    "\n"
   ]
  },
  {
   "cell_type": "code",
   "execution_count": null,
   "metadata": {},
   "outputs": [
    {
     "name": "stdout",
     "output_type": "stream",
     "text": [
      "{0: <_aicspylibczi.BBox object at 0x000000002898FBF0>, 1: <_aicspylibczi.BBox object at 0x000000002898CDF0>, 2: <_aicspylibczi.BBox object at 0x000000002898EE70>, 3: <_aicspylibczi.BBox object at 0x000000002898DDB0>, 4: <_aicspylibczi.BBox object at 0x000000002898CEF0>}\n"
     ]
    }
   ],
   "source": [
    "print(cz.get_all_mosaic_scene_bounding_boxes())\n",
    "\n",
    "\n",
    "# show the values\n",
    "print(f\"Size Mosaic Bounding Box: {mosaic_bbox.x, mosaic_bbox.y, mosaic_bbox.w, mosaic_bbox.h}\")\n",
    "print(f\"Size Scenes Bounding Boxes: {mosa\")\n",
    "print(f\"CZI Size: {cz.size}\")\n",
    "print(f\"Dimenision String: {cz.dims}\")\n",
    "print(f\"Dimensions Shape: {cz.get_dims_shape()}\")"
   ]
  }
 ],
 "metadata": {
  "kernelspec": {
   "display_name": "zen",
   "language": "python",
   "name": "python3"
  },
  "language_info": {
   "codemirror_mode": {
    "name": "ipython",
    "version": 3
   },
   "file_extension": ".py",
   "mimetype": "text/x-python",
   "name": "python",
   "nbconvert_exporter": "python",
   "pygments_lexer": "ipython3",
   "version": "3.11.11"
  }
 },
 "nbformat": 4,
 "nbformat_minor": 2
}
