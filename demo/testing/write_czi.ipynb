{
 "cells": [
  {
   "cell_type": "code",
   "execution_count": null,
   "id": "ff1c67a3",
   "metadata": {
    "pycharm": {
     "name": "#%%\n"
    }
   },
   "outputs": [],
   "source": [
    "# Install pylibCZIrw and dependencies\n",
    "#! pip install --upgrade pip\n",
    "#! pip install \"pylibCZIrw>=3.2,<4.0\" \"tifffile[all]\"\n",
    "#! pip install czitools\n",
    "#! pip install ipyfilechooser"
   ]
  },
  {
   "cell_type": "code",
   "execution_count": 1,
   "id": "martial-craps",
   "metadata": {
    "pycharm": {
     "name": "#%%\n"
    }
   },
   "outputs": [
    {
     "name": "stdout",
     "output_type": "stream",
     "text": [
      "Using: c:\\Users\\m1srh\\Miniconda3\\envs\\ia39\\python.exe\n"
     ]
    }
   ],
   "source": [
    "from pylibCZIrw import czi as pyczi\n",
    "from czitools import misc, napari_tools\n",
    "from ipyfilechooser import FileChooser\n",
    "from IPython.display import display, HTML\n",
    "from tifffile import imread, imwrite, tiffcomment, TiffFile\n",
    "import sys\n",
    "import json\n",
    "import os\n",
    "from pathlib import Path\n",
    "from czitools import misc\n",
    "import numpy as np\n",
    "\n",
    "# show the used python env\n",
    "print(\"Using:\", sys.executable)"
   ]
  },
  {
   "cell_type": "code",
   "execution_count": 2,
   "id": "f1a53741",
   "metadata": {},
   "outputs": [
    {
     "name": "stdout",
     "output_type": "stream",
     "text": [
      "F:\\Github\\czitools\\data\\10x10.czi\n"
     ]
    }
   ],
   "source": [
    "#filename = \"CH=1_16bit.tif\"\n",
    "filename = \"100x100.czi\"\n",
    "\n",
    "defaultdir = os.path.join(Path(os.getcwd()).resolve().parents[1], \"data\")\n",
    "czifilepath = os.path.join(defaultdir, filename)\n",
    "print(czifilepath)"
   ]
  },
  {
   "cell_type": "code",
   "execution_count": 6,
   "id": "2a43afb5",
   "metadata": {
    "pycharm": {
     "name": "#%%\n"
    }
   },
   "outputs": [
    {
     "name": "stdout",
     "output_type": "stream",
     "text": [
      "[[ 0  1  2  3  4  5  6  7  8  9]\n",
      " [10 11 12 13 14 15 16 17 18 19]\n",
      " [20 21 22 23 24 25 26 27 28 29]\n",
      " [30 31 32 33 34 35 36 37 38 39]\n",
      " [40 41 42 43 44 45 46 47 48 49]\n",
      " [50 51 52 53 54 55 56 57 58 59]\n",
      " [60 61 62 63 64 65 66 67 68 69]\n",
      " [70 71 72 73 74 75 76 77 78 79]\n",
      " [80 81 82 83 84 85 86 87 88 89]\n",
      " [90 91 92 93 94 95 96 97 98 99]]\n",
      "uint8\n"
     ]
    }
   ],
   "source": [
    "img2d = np.reshape(np.arange(0,100),(10,10)).astype(\"uint8\", copy=False)\n",
    "print(img2d)\n",
    "print(img2d.dtype)"
   ]
  },
  {
   "cell_type": "code",
   "execution_count": 7,
   "id": "44ba6c63",
   "metadata": {
    "pycharm": {
     "name": "#%%\n"
    }
   },
   "outputs": [],
   "source": [
    "# open a new CZI and allow overwrite (!!!) to play around ...\n",
    "with pyczi.create_czi(czifilepath, exist_ok=True) as czidoc_w:\n",
    "\n",
    "    # write the plane\n",
    "    czidoc_w.write(data=img2d, plane={'C':0, 'T': 0, 'Z': 0}, scene=0)\n",
    "        \n",
    "    # write the document title, channel names, custom attributes and XYZ scaling to the CZI file\n",
    "    czidoc_w.write_metadata(\n",
    "        document_name='10x10_CZI_from_TIF',\n",
    "        channel_names={0: \"C1\"},\n",
    "        scale_x=0.1 * 10 ** -6,\n",
    "        scale_y=0.1 * 10 ** -6,\n",
    "        scale_z=0.1 * 10 ** -6\n",
    "    )"
   ]
  },
  {
   "cell_type": "code",
   "execution_count": null,
   "id": "384d10cc-29a4-4357-8239-0368d178e49b",
   "metadata": {},
   "outputs": [],
   "source": []
  }
 ],
 "metadata": {
  "celltoolbar": "Raw Cell Format",
  "kernelspec": {
   "display_name": "zen",
   "language": "python",
   "name": "python3"
  },
  "language_info": {
   "codemirror_mode": {
    "name": "ipython",
    "version": 3
   },
   "file_extension": ".py",
   "mimetype": "text/x-python",
   "name": "python",
   "nbconvert_exporter": "python",
   "pygments_lexer": "ipython3",
   "version": "3.11.11"
  }
 },
 "nbformat": 4,
 "nbformat_minor": 5
}
